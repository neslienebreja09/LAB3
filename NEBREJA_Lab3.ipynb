{
  "nbformat": 4,
  "nbformat_minor": 0,
  "metadata": {
    "colab": {
      "provenance": []
    },
    "kernelspec": {
      "name": "python3",
      "display_name": "Python 3"
    },
    "language_info": {
      "name": "python"
    }
  },
  "cells": [
    {
      "cell_type": "code",
      "execution_count": 1,
      "metadata": {
        "id": "XMC5Be6T1Svj"
      },
      "outputs": [],
      "source": [
        "import pandas as pd\n",
        "import numpy as np"
      ]
    },
    {
      "cell_type": "code",
      "source": [
        "data = {\n",
        "    'Name' : [\"Aira\", \"Julie\", \"Chen\", \"Neslie\", \"Ara\"],\n",
        "    'Age' : [18, np.nan, 20, 21, 22],\n",
        "    'Salary' : [1000, np.nan, 3000, 4000, 500],\n",
        "    'Department' : [\"Registrar\", \"Finance\", \"Accounting\", \"IT\", \"HR\"]\n",
        "}"
      ],
      "metadata": {
        "id": "-mMHedG_5Mdb"
      },
      "execution_count": 2,
      "outputs": []
    },
    {
      "cell_type": "code",
      "source": [
        "df = pd.DataFrame(data)\n",
        "print(\"Original Dataset: \\n\", df)"
      ],
      "metadata": {
        "colab": {
          "base_uri": "https://localhost:8080/"
        },
        "id": "UgW5zQMX6SDq",
        "outputId": "ef90bc81-51a3-4727-9251-c74676b07b3b"
      },
      "execution_count": 3,
      "outputs": [
        {
          "output_type": "stream",
          "name": "stdout",
          "text": [
            "Original Dataset: \n",
            "      Name   Age  Salary  Department\n",
            "0    Aira  18.0  1000.0   Registrar\n",
            "1   Julie   NaN     NaN     Finance\n",
            "2    Chen  20.0  3000.0  Accounting\n",
            "3  Neslie  21.0  4000.0          IT\n",
            "4     Ara  22.0   500.0          HR\n"
          ]
        }
      ]
    },
    {
      "cell_type": "code",
      "source": [
        "df.fillna(df.mean(numeric_only=True), inplace=True)\n",
        "print(\"New Dataset: \\n\", df)"
      ],
      "metadata": {
        "colab": {
          "base_uri": "https://localhost:8080/"
        },
        "id": "AkRKJtHC6nlr",
        "outputId": "9ecc99f4-8c4a-4e27-cdec-379a0d00dc17"
      },
      "execution_count": 4,
      "outputs": [
        {
          "output_type": "stream",
          "name": "stdout",
          "text": [
            "New Dataset: \n",
            "      Name    Age  Salary  Department\n",
            "0    Aira  18.00  1000.0   Registrar\n",
            "1   Julie  20.25  2125.0     Finance\n",
            "2    Chen  20.00  3000.0  Accounting\n",
            "3  Neslie  21.00  4000.0          IT\n",
            "4     Ara  22.00   500.0          HR\n"
          ]
        }
      ]
    }
  ]
}